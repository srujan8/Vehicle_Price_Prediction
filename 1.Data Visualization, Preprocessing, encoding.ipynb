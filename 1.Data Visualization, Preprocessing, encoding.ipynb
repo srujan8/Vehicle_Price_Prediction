{
 "cells": [
  {
   "cell_type": "markdown",
   "id": "86c4519b",
   "metadata": {},
   "source": [
    "## Import Libraries"
   ]
  },
  {
   "cell_type": "code",
   "execution_count": 2,
   "id": "fdda6d54",
   "metadata": {},
   "outputs": [],
   "source": [
    "import pandas as pd\n",
    "import matplotlib.pyplot as plt\n",
    "import seaborn as sns\n",
    "from histogram import histogram "
   ]
  },
  {
   "cell_type": "code",
   "execution_count": 3,
   "id": "b8ab6284",
   "metadata": {},
   "outputs": [],
   "source": [
    "df = pd.read_csv('cars_sales.csv')"
   ]
  },
  {
   "cell_type": "markdown",
   "id": "822b5506",
   "metadata": {},
   "source": [
    "## Exploratory Data Analysis"
   ]
  },
  {
   "cell_type": "markdown",
   "id": "5f34a6cd",
   "metadata": {},
   "source": [
    "### Data Visualisation"
   ]
  },
  {
   "cell_type": "code",
   "execution_count": 4,
   "id": "124df088",
   "metadata": {},
   "outputs": [
    {
     "data": {
      "text/html": [
       "<div>\n",
       "<style scoped>\n",
       "    .dataframe tbody tr th:only-of-type {\n",
       "        vertical-align: middle;\n",
       "    }\n",
       "\n",
       "    .dataframe tbody tr th {\n",
       "        vertical-align: top;\n",
       "    }\n",
       "\n",
       "    .dataframe thead th {\n",
       "        text-align: right;\n",
       "    }\n",
       "</style>\n",
       "<table border=\"1\" class=\"dataframe\">\n",
       "  <thead>\n",
       "    <tr style=\"text-align: right;\">\n",
       "      <th></th>\n",
       "      <th>model</th>\n",
       "      <th>year</th>\n",
       "      <th>price</th>\n",
       "      <th>transmission</th>\n",
       "      <th>mileage</th>\n",
       "      <th>fuelType</th>\n",
       "      <th>engineSize</th>\n",
       "      <th>manufacturer</th>\n",
       "    </tr>\n",
       "  </thead>\n",
       "  <tbody>\n",
       "    <tr>\n",
       "      <th>0</th>\n",
       "      <td>GT86</td>\n",
       "      <td>2016</td>\n",
       "      <td>16000</td>\n",
       "      <td>Manual</td>\n",
       "      <td>24089</td>\n",
       "      <td>Petrol</td>\n",
       "      <td>2.0</td>\n",
       "      <td>Toyota</td>\n",
       "    </tr>\n",
       "    <tr>\n",
       "      <th>1</th>\n",
       "      <td>GT86</td>\n",
       "      <td>2017</td>\n",
       "      <td>15995</td>\n",
       "      <td>Manual</td>\n",
       "      <td>18615</td>\n",
       "      <td>Petrol</td>\n",
       "      <td>2.0</td>\n",
       "      <td>Toyota</td>\n",
       "    </tr>\n",
       "    <tr>\n",
       "      <th>2</th>\n",
       "      <td>GT86</td>\n",
       "      <td>2015</td>\n",
       "      <td>13998</td>\n",
       "      <td>Manual</td>\n",
       "      <td>27469</td>\n",
       "      <td>Petrol</td>\n",
       "      <td>2.0</td>\n",
       "      <td>Toyota</td>\n",
       "    </tr>\n",
       "    <tr>\n",
       "      <th>3</th>\n",
       "      <td>GT86</td>\n",
       "      <td>2017</td>\n",
       "      <td>18998</td>\n",
       "      <td>Manual</td>\n",
       "      <td>14736</td>\n",
       "      <td>Petrol</td>\n",
       "      <td>2.0</td>\n",
       "      <td>Toyota</td>\n",
       "    </tr>\n",
       "    <tr>\n",
       "      <th>4</th>\n",
       "      <td>GT86</td>\n",
       "      <td>2017</td>\n",
       "      <td>17498</td>\n",
       "      <td>Manual</td>\n",
       "      <td>36284</td>\n",
       "      <td>Petrol</td>\n",
       "      <td>2.0</td>\n",
       "      <td>Toyota</td>\n",
       "    </tr>\n",
       "  </tbody>\n",
       "</table>\n",
       "</div>"
      ],
      "text/plain": [
       "   model  year  price transmission  mileage fuelType  engineSize manufacturer\n",
       "0   GT86  2016  16000       Manual    24089   Petrol         2.0       Toyota\n",
       "1   GT86  2017  15995       Manual    18615   Petrol         2.0       Toyota\n",
       "2   GT86  2015  13998       Manual    27469   Petrol         2.0       Toyota\n",
       "3   GT86  2017  18998       Manual    14736   Petrol         2.0       Toyota\n",
       "4   GT86  2017  17498       Manual    36284   Petrol         2.0       Toyota"
      ]
     },
     "execution_count": 4,
     "metadata": {},
     "output_type": "execute_result"
    }
   ],
   "source": [
    "df.head()"
   ]
  },
  {
   "cell_type": "code",
   "execution_count": 5,
   "id": "b701d68c",
   "metadata": {},
   "outputs": [
    {
     "name": "stdout",
     "output_type": "stream",
     "text": [
      "<class 'pandas.core.frame.DataFrame'>\n",
      "RangeIndex: 108540 entries, 0 to 108539\n",
      "Data columns (total 8 columns):\n",
      " #   Column        Non-Null Count   Dtype  \n",
      "---  ------        --------------   -----  \n",
      " 0   model         108540 non-null  object \n",
      " 1   year          108540 non-null  int64  \n",
      " 2   price         108540 non-null  int64  \n",
      " 3   transmission  108540 non-null  object \n",
      " 4   mileage       108540 non-null  int64  \n",
      " 5   fuelType      108540 non-null  object \n",
      " 6   engineSize    108540 non-null  float64\n",
      " 7   manufacturer  108540 non-null  object \n",
      "dtypes: float64(1), int64(3), object(4)\n",
      "memory usage: 6.6+ MB\n"
     ]
    }
   ],
   "source": [
    "df.info()"
   ]
  },
  {
   "cell_type": "code",
   "execution_count": 6,
   "id": "759aef7e",
   "metadata": {},
   "outputs": [
    {
     "data": {
      "text/plain": [
       "['model', 'transmission', 'fuelType', 'manufacturer']"
      ]
     },
     "execution_count": 6,
     "metadata": {},
     "output_type": "execute_result"
    }
   ],
   "source": [
    "catcols=[col for col in df.columns if df[col].dtype==\"O\"]\n",
    "catcols"
   ]
  },
  {
   "cell_type": "markdown",
   "id": "18d12abb",
   "metadata": {},
   "source": [
    "### Price"
   ]
  },
  {
   "cell_type": "code",
   "execution_count": 7,
   "id": "c5b0fd26",
   "metadata": {},
   "outputs": [
    {
     "data": {
      "image/png": "[encoded data removed]",
      "text/plain": [
       "<Figure size 1440x576 with 1 Axes>"
      ]
     },
     "metadata": {
      "needs_background": "light"
     },
     "output_type": "display_data"
    }
   ],
   "source": [
    "_ = histogram(df.price,\"Price\")"
   ]
  },
  {
   "cell_type": "code",
   "execution_count": 8,
   "id": "27892dec",
   "metadata": {},
   "outputs": [],
   "source": [
    "def PiePlot(feature):\n",
    "    serie = df[feature].value_counts()\n",
    "    fig = plt.subplots(1,1,figsize = (22,8))\n",
    "    serie.plot(kind = 'pie',colors = ['#fdfd96','#fdcae1',\n",
    "                                      '#84b6f4','#b0c2f2',\n",
    "                                      '#ff6961','#77dd77'],\n",
    "               autopct=lambda p:'{:.2f}%({:.0f})'.format(p,(p/100)*serie.sum()))\n",
    "    \n",
    "    plt.ylabel(None)"
   ]
  },
  {
   "cell_type": "markdown",
   "id": "a31853b4",
   "metadata": {},
   "source": [
    "### Percentage of Vehicle Manufacturers"
   ]
  },
  {
   "cell_type": "code",
   "execution_count": 9,
   "id": "b17c1783",
   "metadata": {},
   "outputs": [
    {
     "data": {
      "image/png": "[encoded data removed]",
      "text/plain": [
       "<Figure size 1584x576 with 1 Axes>"
      ]
     },
     "metadata": {},
     "output_type": "display_data"
    }
   ],
   "source": [
    "_ = PiePlot('manufacturer')"
   ]
  },
  {
   "cell_type": "code",
   "execution_count": 29,
   "id": "b1182ff4",
   "metadata": {},
   "outputs": [
    {
     "data": {
      "image/png": "[encoded data removed]",
      "text/plain": [
       "<Figure size 1584x576 with 1 Axes>"
      ]
     },
     "metadata": {},
     "output_type": "display_data"
    }
   ],
   "source": [
    "_ = PiePlot('transmission')"
   ]
  },
  {
   "cell_type": "code",
   "execution_count": 30,
   "id": "b8f9dd0f",
   "metadata": {},
   "outputs": [
    {
     "data": {
      "text/plain": [
       "min         1\n",
       "max    323000\n",
       "Name: mileage, dtype: int64"
      ]
     },
     "execution_count": 30,
     "metadata": {},
     "output_type": "execute_result"
    }
   ],
   "source": [
    "df.mileage.agg(['min','max'])"
   ]
  },
  {
   "cell_type": "code",
   "execution_count": 31,
   "id": "f13ed8fc",
   "metadata": {},
   "outputs": [
    {
     "data": {
      "image/png": "[encoded data removed]",
      "text/plain": [
       "<Figure size 1440x576 with 1 Axes>"
      ]
     },
     "metadata": {},
     "output_type": "display_data"
    }
   ],
   "source": [
    "_ = histogram(df.mileage,'Mileage')"
   ]
  },
  {
   "cell_type": "code",
   "execution_count": 32,
   "id": "326600a8",
   "metadata": {},
   "outputs": [],
   "source": [
    "from intervals import IntervalFit"
   ]
  },
  {
   "cell_type": "code",
   "execution_count": 33,
   "id": "b0a70eca",
   "metadata": {},
   "outputs": [],
   "source": [
    "df.drop_duplicates(inplace=True)"
   ]
  },
  {
   "cell_type": "code",
   "execution_count": 34,
   "id": "2e9c2540",
   "metadata": {},
   "outputs": [
    {
     "name": "stdout",
     "output_type": "stream",
     "text": [
      "Interval range STD 1.5: 1977.0\n",
      "Interval range STD 2: -2954.0\n",
      "Interval range STD 2.5: -7885.0\n",
      "Interval range STD 3.0: -12817.0\n",
      "Interval range STD 3.5: -17748.0\n",
      "Interval range STD 4: -22679.0\n"
     ]
    }
   ],
   "source": [
    "IntervalFit(df.price).Lower_Interval()"
   ]
  },
  {
   "cell_type": "code",
   "execution_count": 35,
   "id": "eff50204",
   "metadata": {},
   "outputs": [],
   "source": [
    "df = df.query(\"price > 2000\")"
   ]
  },
  {
   "cell_type": "code",
   "execution_count": 36,
   "id": "cb421e47",
   "metadata": {},
   "outputs": [
    {
     "data": {
      "text/plain": [
       "min      2050\n",
       "max    159999\n",
       "Name: price, dtype: int64"
      ]
     },
     "execution_count": 36,
     "metadata": {},
     "output_type": "execute_result"
    }
   ],
   "source": [
    "df.price.agg([\"min\",\"max\"])"
   ]
  },
  {
   "cell_type": "code",
   "execution_count": 37,
   "id": "826f496c",
   "metadata": {},
   "outputs": [
    {
     "data": {
      "image/png": "[encoded data removed]",
      "text/plain": [
       "<Figure size 1440x576 with 1 Axes>"
      ]
     },
     "metadata": {},
     "output_type": "display_data"
    }
   ],
   "source": [
    "_ = histogram(df.mileage,\"Mileage\")"
   ]
  },
  {
   "cell_type": "code",
   "execution_count": 38,
   "id": "eb0ecbf8",
   "metadata": {},
   "outputs": [
    {
     "name": "stdout",
     "output_type": "stream",
     "text": [
      "Interval range STD 1.5: 54128.0\n",
      "Interval range STD 2: 64479.0\n",
      "Interval range STD 2.5: 74830.0\n",
      "Interval range STD 3.0: 85181.0\n",
      "Interval range STD 3.5: 95532.0\n",
      "Interval range STD 4: 105883.0\n"
     ]
    }
   ],
   "source": [
    "IntervalFit(df.mileage).Upper_Interval()"
   ]
  },
  {
   "cell_type": "code",
   "execution_count": 39,
   "id": "5f96c7c3",
   "metadata": {},
   "outputs": [],
   "source": [
    "df = df.query(\"mileage > 3000 and mileage < 100000\")"
   ]
  },
  {
   "cell_type": "code",
   "execution_count": 40,
   "id": "9de2d421",
   "metadata": {},
   "outputs": [
    {
     "data": {
      "image/png": "[encoded data removed]",
      "text/plain": [
       "<Figure size 1440x576 with 1 Axes>"
      ]
     },
     "metadata": {},
     "output_type": "display_data"
    }
   ],
   "source": [
    "_ = histogram(df.mileage,\"Mileage\")"
   ]
  },
  {
   "cell_type": "code",
   "execution_count": 41,
   "id": "f172833f",
   "metadata": {},
   "outputs": [
    {
     "data": {
      "text/plain": [
       "min    1970\n",
       "max    2060\n",
       "Name: year, dtype: int64"
      ]
     },
     "execution_count": 41,
     "metadata": {},
     "output_type": "execute_result"
    }
   ],
   "source": [
    "df.year.agg([\"min\",\"max\"])"
   ]
  },
  {
   "cell_type": "code",
   "execution_count": 42,
   "id": "c6e622ec",
   "metadata": {},
   "outputs": [],
   "source": [
    "df = df.query(\"year >= 2000 and year <= 2020\")"
   ]
  },
  {
   "cell_type": "code",
   "execution_count": 43,
   "id": "9ebf26ab",
   "metadata": {},
   "outputs": [
    {
     "data": {
      "text/plain": [
       "min    2000\n",
       "max    2020\n",
       "Name: year, dtype: int64"
      ]
     },
     "execution_count": 43,
     "metadata": {},
     "output_type": "execute_result"
    }
   ],
   "source": [
    "df.year.agg([\"min\",\"max\"])"
   ]
  },
  {
   "cell_type": "code",
   "execution_count": 44,
   "id": "b536259d",
   "metadata": {},
   "outputs": [],
   "source": [
    "model_counts = df.model.value_counts()\n",
    "model_counts = model_counts[model_counts < 10]"
   ]
  },
  {
   "cell_type": "code",
   "execution_count": 45,
   "id": "fdd5420a",
   "metadata": {},
   "outputs": [
    {
     "data": {
      "text/plain": [
       " SQ7                8\n",
       " IQ                 8\n",
       " M6                 8\n",
       " S4                 8\n",
       " Caddy              6\n",
       " PROACE VERSO       6\n",
       " Eos                6\n",
       " Caddy Maxi         4\n",
       " Caddy Life         4\n",
       " Urban Cruiser      4\n",
       " S8                 4\n",
       " Cascada            4\n",
       " Kadjar             3\n",
       " Verso-S            3\n",
       " CLC Class          3\n",
       " S5                 3\n",
       " Ampera             3\n",
       " Veloster           3\n",
       " GLB Class          3\n",
       " Supra              2\n",
       " Tigra              2\n",
       " Z3                 2\n",
       " R Class            2\n",
       " Getz               2\n",
       " CLK                2\n",
       "180                 1\n",
       " Ranger             1\n",
       " Transit Tourneo    1\n",
       "230                 1\n",
       " Terracan           1\n",
       "220                 1\n",
       " RS7                1\n",
       "200                 1\n",
       "1 Series            1\n",
       "X5                  1\n",
       " Fox                1\n",
       "Name: model, dtype: int64"
      ]
     },
     "execution_count": 45,
     "metadata": {},
     "output_type": "execute_result"
    }
   ],
   "source": [
    "model_counts"
   ]
  },
  {
   "cell_type": "code",
   "execution_count": 46,
   "id": "4cd46afc",
   "metadata": {},
   "outputs": [],
   "source": [
    "df['model'] = df['model'].apply(lambda x: 'Other' if x in model_counts else x)"
   ]
  },
  {
   "cell_type": "code",
   "execution_count": 47,
   "id": "9271ee67",
   "metadata": {},
   "outputs": [
    {
     "data": {
      "text/html": [
       "<div>\n",
       "<style scoped>\n",
       "    .dataframe tbody tr th:only-of-type {\n",
       "        vertical-align: middle;\n",
       "    }\n",
       "\n",
       "    .dataframe tbody tr th {\n",
       "        vertical-align: top;\n",
       "    }\n",
       "\n",
       "    .dataframe thead th {\n",
       "        text-align: right;\n",
       "    }\n",
       "</style>\n",
       "<table border=\"1\" class=\"dataframe\">\n",
       "  <thead>\n",
       "    <tr style=\"text-align: right;\">\n",
       "      <th></th>\n",
       "      <th>model</th>\n",
       "      <th>year</th>\n",
       "      <th>price</th>\n",
       "      <th>transmission</th>\n",
       "      <th>mileage</th>\n",
       "      <th>fuelType</th>\n",
       "      <th>engineSize</th>\n",
       "      <th>manufacturer</th>\n",
       "    </tr>\n",
       "  </thead>\n",
       "  <tbody>\n",
       "    <tr>\n",
       "      <th>6640</th>\n",
       "      <td>Other</td>\n",
       "      <td>2019</td>\n",
       "      <td>28456</td>\n",
       "      <td>Automatic</td>\n",
       "      <td>9119</td>\n",
       "      <td>Diesel</td>\n",
       "      <td>2.0</td>\n",
       "      <td>Toyota</td>\n",
       "    </tr>\n",
       "    <tr>\n",
       "      <th>6641</th>\n",
       "      <td>Other</td>\n",
       "      <td>2019</td>\n",
       "      <td>24990</td>\n",
       "      <td>Manual</td>\n",
       "      <td>7350</td>\n",
       "      <td>Diesel</td>\n",
       "      <td>2.0</td>\n",
       "      <td>Toyota</td>\n",
       "    </tr>\n",
       "    <tr>\n",
       "      <th>6642</th>\n",
       "      <td>Other</td>\n",
       "      <td>2019</td>\n",
       "      <td>27990</td>\n",
       "      <td>Automatic</td>\n",
       "      <td>5633</td>\n",
       "      <td>Diesel</td>\n",
       "      <td>2.0</td>\n",
       "      <td>Toyota</td>\n",
       "    </tr>\n",
       "    <tr>\n",
       "      <th>6643</th>\n",
       "      <td>Other</td>\n",
       "      <td>2019</td>\n",
       "      <td>27249</td>\n",
       "      <td>Automatic</td>\n",
       "      <td>10524</td>\n",
       "      <td>Diesel</td>\n",
       "      <td>2.0</td>\n",
       "      <td>Toyota</td>\n",
       "    </tr>\n",
       "    <tr>\n",
       "      <th>6644</th>\n",
       "      <td>Other</td>\n",
       "      <td>2019</td>\n",
       "      <td>24450</td>\n",
       "      <td>Manual</td>\n",
       "      <td>9441</td>\n",
       "      <td>Diesel</td>\n",
       "      <td>2.0</td>\n",
       "      <td>Toyota</td>\n",
       "    </tr>\n",
       "  </tbody>\n",
       "</table>\n",
       "</div>"
      ],
      "text/plain": [
       "      model  year  price transmission  mileage fuelType  engineSize  \\\n",
       "6640  Other  2019  28456    Automatic     9119   Diesel         2.0   \n",
       "6641  Other  2019  24990       Manual     7350   Diesel         2.0   \n",
       "6642  Other  2019  27990    Automatic     5633   Diesel         2.0   \n",
       "6643  Other  2019  27249    Automatic    10524   Diesel         2.0   \n",
       "6644  Other  2019  24450       Manual     9441   Diesel         2.0   \n",
       "\n",
       "     manufacturer  \n",
       "6640       Toyota  \n",
       "6641       Toyota  \n",
       "6642       Toyota  \n",
       "6643       Toyota  \n",
       "6644       Toyota  "
      ]
     },
     "execution_count": 47,
     "metadata": {},
     "output_type": "execute_result"
    }
   ],
   "source": [
    "df.query(\"model == 'Other'\").head()"
   ]
  },
  {
   "cell_type": "code",
   "execution_count": 48,
   "id": "45f7503e",
   "metadata": {},
   "outputs": [
    {
     "data": {
      "text/plain": [
       "array(['Manual', 'Automatic', 'Semi-Auto', 'Other'], dtype=object)"
      ]
     },
     "execution_count": 48,
     "metadata": {},
     "output_type": "execute_result"
    }
   ],
   "source": [
    "df.transmission.unique()"
   ]
  },
  {
   "cell_type": "code",
   "execution_count": 49,
   "id": "14b16964",
   "metadata": {},
   "outputs": [
    {
     "data": {
      "text/plain": [
       "array(['Petrol', 'Other', 'Hybrid', 'Diesel', 'Electric'], dtype=object)"
      ]
     },
     "execution_count": 49,
     "metadata": {},
     "output_type": "execute_result"
    }
   ],
   "source": [
    "df.fuelType.unique()"
   ]
  },
  {
   "cell_type": "code",
   "execution_count": 50,
   "id": "6d7cdd6a",
   "metadata": {},
   "outputs": [],
   "source": [
    "df = df.query(\"model != 'Other' and transmission != 'Other' and fuelType != 'Other'\")"
   ]
  },
  {
   "cell_type": "code",
   "execution_count": 51,
   "id": "6fae3bfa",
   "metadata": {},
   "outputs": [
    {
     "data": {
      "text/plain": [
       "array(['Manual', 'Automatic', 'Semi-Auto'], dtype=object)"
      ]
     },
     "execution_count": 51,
     "metadata": {},
     "output_type": "execute_result"
    }
   ],
   "source": [
    "df.transmission.unique()"
   ]
  },
  {
   "cell_type": "code",
   "execution_count": 52,
   "id": "2401b559",
   "metadata": {},
   "outputs": [
    {
     "data": {
      "text/plain": [
       "array(['Petrol', 'Hybrid', 'Diesel', 'Electric'], dtype=object)"
      ]
     },
     "execution_count": 52,
     "metadata": {},
     "output_type": "execute_result"
    }
   ],
   "source": [
    "df.fuelType.unique()"
   ]
  },
  {
   "cell_type": "code",
   "execution_count": 53,
   "id": "bd12e0d7",
   "metadata": {},
   "outputs": [],
   "source": [
    "df.to_csv('cars_sales2.csv',index = False)"
   ]
  },
  {
   "cell_type": "code",
   "execution_count": 54,
   "id": "e779355a",
   "metadata": {},
   "outputs": [],
   "source": [
    "df= pd.read_csv('cars_sales2.csv')"
   ]
  },
  {
   "cell_type": "code",
   "execution_count": 55,
   "id": "d87a83ad",
   "metadata": {},
   "outputs": [],
   "source": [
    "model_counts = df.model.value_counts()\n",
    "model_counts = model_counts[model_counts < 10]"
   ]
  },
  {
   "cell_type": "code",
   "execution_count": 56,
   "id": "3b796a3e",
   "metadata": {},
   "outputs": [
    {
     "data": {
      "text/plain": [
       "A3    1\n",
       "Name: model, dtype: int64"
      ]
     },
     "execution_count": 56,
     "metadata": {},
     "output_type": "execute_result"
    }
   ],
   "source": [
    "model_counts"
   ]
  },
  {
   "cell_type": "code",
   "execution_count": 57,
   "id": "0e636d3d",
   "metadata": {},
   "outputs": [],
   "source": [
    "df['model'] = df['model'].apply(lambda x: 'Other' if x in model_counts else x)"
   ]
  },
  {
   "cell_type": "code",
   "execution_count": 58,
   "id": "70d87626",
   "metadata": {},
   "outputs": [
    {
     "data": {
      "text/html": [
       "<div>\n",
       "<style scoped>\n",
       "    .dataframe tbody tr th:only-of-type {\n",
       "        vertical-align: middle;\n",
       "    }\n",
       "\n",
       "    .dataframe tbody tr th {\n",
       "        vertical-align: top;\n",
       "    }\n",
       "\n",
       "    .dataframe thead th {\n",
       "        text-align: right;\n",
       "    }\n",
       "</style>\n",
       "<table border=\"1\" class=\"dataframe\">\n",
       "  <thead>\n",
       "    <tr style=\"text-align: right;\">\n",
       "      <th></th>\n",
       "      <th>model</th>\n",
       "      <th>year</th>\n",
       "      <th>price</th>\n",
       "      <th>transmission</th>\n",
       "      <th>mileage</th>\n",
       "      <th>fuelType</th>\n",
       "      <th>engineSize</th>\n",
       "      <th>manufacturer</th>\n",
       "    </tr>\n",
       "  </thead>\n",
       "  <tbody>\n",
       "    <tr>\n",
       "      <th>41524</th>\n",
       "      <td>Other</td>\n",
       "      <td>2018</td>\n",
       "      <td>22900</td>\n",
       "      <td>Semi-Auto</td>\n",
       "      <td>18972</td>\n",
       "      <td>Petrol</td>\n",
       "      <td>2.0</td>\n",
       "      <td>Audi</td>\n",
       "    </tr>\n",
       "  </tbody>\n",
       "</table>\n",
       "</div>"
      ],
      "text/plain": [
       "       model  year  price transmission  mileage fuelType  engineSize  \\\n",
       "41524  Other  2018  22900    Semi-Auto    18972   Petrol         2.0   \n",
       "\n",
       "      manufacturer  \n",
       "41524         Audi  "
      ]
     },
     "execution_count": 58,
     "metadata": {},
     "output_type": "execute_result"
    }
   ],
   "source": [
    "df.query(\"model == 'Other'\").head()"
   ]
  },
  {
   "cell_type": "code",
   "execution_count": 59,
   "id": "b44f1098",
   "metadata": {},
   "outputs": [],
   "source": [
    "df = df.query(\"model != 'Other'\")"
   ]
  },
  {
   "cell_type": "code",
   "execution_count": 60,
   "id": "560760bf",
   "metadata": {},
   "outputs": [
    {
     "data": {
      "text/html": [
       "<div>\n",
       "<style scoped>\n",
       "    .dataframe tbody tr th:only-of-type {\n",
       "        vertical-align: middle;\n",
       "    }\n",
       "\n",
       "    .dataframe tbody tr th {\n",
       "        vertical-align: top;\n",
       "    }\n",
       "\n",
       "    .dataframe thead th {\n",
       "        text-align: right;\n",
       "    }\n",
       "</style>\n",
       "<table border=\"1\" class=\"dataframe\">\n",
       "  <thead>\n",
       "    <tr style=\"text-align: right;\">\n",
       "      <th></th>\n",
       "      <th>model</th>\n",
       "      <th>year</th>\n",
       "      <th>price</th>\n",
       "      <th>transmission</th>\n",
       "      <th>mileage</th>\n",
       "      <th>fuelType</th>\n",
       "      <th>engineSize</th>\n",
       "      <th>manufacturer</th>\n",
       "    </tr>\n",
       "  </thead>\n",
       "  <tbody>\n",
       "  </tbody>\n",
       "</table>\n",
       "</div>"
      ],
      "text/plain": [
       "Empty DataFrame\n",
       "Columns: [model, year, price, transmission, mileage, fuelType, engineSize, manufacturer]\n",
       "Index: []"
      ]
     },
     "execution_count": 60,
     "metadata": {},
     "output_type": "execute_result"
    }
   ],
   "source": [
    "df.query(\"model == 'Other'\")"
   ]
  },
  {
   "cell_type": "code",
   "execution_count": 61,
   "id": "b83a52c1",
   "metadata": {},
   "outputs": [],
   "source": [
    "enginesize_counts = df.engineSize.value_counts()\n",
    "enginesize_counts = enginesize_counts[enginesize_counts < 10]"
   ]
  },
  {
   "cell_type": "code",
   "execution_count": 62,
   "id": "b67bbaeb",
   "metadata": {},
   "outputs": [
    {
     "data": {
      "text/plain": [
       "1.9    7\n",
       "2.7    3\n",
       "5.4    3\n",
       "4.1    2\n",
       "6.6    2\n",
       "6.3    1\n",
       "4.5    1\n",
       "6.0    1\n",
       "3.7    1\n",
       "2.6    1\n",
       "Name: engineSize, dtype: int64"
      ]
     },
     "execution_count": 62,
     "metadata": {},
     "output_type": "execute_result"
    }
   ],
   "source": [
    "enginesize_counts"
   ]
  },
  {
   "cell_type": "code",
   "execution_count": 63,
   "id": "da8fd1c7",
   "metadata": {},
   "outputs": [],
   "source": [
    "df['engineSize'] = df['engineSize'].apply(lambda x: 'Other' if x in enginesize_counts else x)"
   ]
  },
  {
   "cell_type": "code",
   "execution_count": 64,
   "id": "c1096ce7",
   "metadata": {},
   "outputs": [
    {
     "data": {
      "text/plain": [
       "array([2.0, 1.8, 1.2, 1.4, 1.6, 2.5, 2.2, 1.5, 1.0, 1.3, 0.0, 2.4, 3.0,\n",
       "       2.8, 'Other', 1.1, 2.3, 5.0, 1.7, 3.2, 4.0, 4.2, 2.9, 5.2, 4.4,\n",
       "       3.5, 2.1, 5.5, 4.7, 6.2], dtype=object)"
      ]
     },
     "execution_count": 64,
     "metadata": {},
     "output_type": "execute_result"
    }
   ],
   "source": [
    "df['engineSize'].unique()"
   ]
  },
  {
   "cell_type": "code",
   "execution_count": 65,
   "id": "93ef1af9",
   "metadata": {},
   "outputs": [],
   "source": [
    "df = df.query(\"engineSize != 'Other'\")"
   ]
  },
  {
   "cell_type": "code",
   "execution_count": 66,
   "id": "af6d455f",
   "metadata": {},
   "outputs": [
    {
     "data": {
      "text/plain": [
       "array([2.0, 1.8, 1.2, 1.4, 1.6, 2.5, 2.2, 1.5, 1.0, 1.3, 0.0, 2.4, 3.0,\n",
       "       2.8, 1.1, 2.3, 5.0, 1.7, 3.2, 4.0, 4.2, 2.9, 5.2, 4.4, 3.5, 2.1,\n",
       "       5.5, 4.7, 6.2], dtype=object)"
      ]
     },
     "execution_count": 66,
     "metadata": {},
     "output_type": "execute_result"
    }
   ],
   "source": [
    "df['engineSize'].unique()"
   ]
  },
  {
   "cell_type": "code",
   "execution_count": 67,
   "id": "6850a0ac",
   "metadata": {},
   "outputs": [],
   "source": [
    "df['engineSize'] = df['engineSize'].astype(float)"
   ]
  },
  {
   "cell_type": "code",
   "execution_count": 68,
   "id": "fb8b75f5",
   "metadata": {},
   "outputs": [
    {
     "data": {
      "text/plain": [
       "array([2. , 1.8, 1.2, 1.4, 1.6, 2.5, 2.2, 1.5, 1. , 1.3, 0. , 2.4, 3. ,\n",
       "       2.8, 1.1, 2.3, 5. , 1.7, 3.2, 4. , 4.2, 2.9, 5.2, 4.4, 3.5, 2.1,\n",
       "       5.5, 4.7, 6.2])"
      ]
     },
     "execution_count": 68,
     "metadata": {},
     "output_type": "execute_result"
    }
   ],
   "source": [
    "df.engineSize.unique()"
   ]
  },
  {
   "cell_type": "code",
   "execution_count": 69,
   "id": "6c1e6714",
   "metadata": {},
   "outputs": [],
   "source": [
    "df.to_csv('cars_sales_clear.csv',index = False)"
   ]
  },
  {
   "cell_type": "code",
   "execution_count": 70,
   "id": "0b2a23d7",
   "metadata": {},
   "outputs": [],
   "source": [
    "import string"
   ]
  },
  {
   "cell_type": "code",
   "execution_count": 71,
   "id": "4f92175b",
   "metadata": {},
   "outputs": [],
   "source": [
    "df = pd.read_csv(\"cars_sales_clear.csv\")"
   ]
  },
  {
   "cell_type": "code",
   "execution_count": 72,
   "id": "6e7f01d3",
   "metadata": {},
   "outputs": [
    {
     "data": {
      "text/plain": [
       "(86482, 8)"
      ]
     },
     "execution_count": 72,
     "metadata": {},
     "output_type": "execute_result"
    }
   ],
   "source": [
    "df.shape"
   ]
  },
  {
   "cell_type": "code",
   "execution_count": 73,
   "id": "ba802d27",
   "metadata": {},
   "outputs": [],
   "source": [
    "def OHE():\n",
    "    \n",
    "    manufacturer_ohe = pd.get_dummies(df.manufacturer)\n",
    "    model_ohe = pd.get_dummies(df.model)\n",
    "    transmission_ohe = pd.get_dummies(df.transmission)\n",
    "    fuelType_ohe = pd.get_dummies(df.fuelType)\n",
    "    \n",
    "    \n",
    "    return manufacturer_ohe,model_ohe,transmission_ohe,fuelType_ohe"
   ]
  },
  {
   "cell_type": "code",
   "execution_count": 74,
   "id": "ca8cb843",
   "metadata": {},
   "outputs": [],
   "source": [
    "def concatene_df():\n",
    "    \n",
    "    manufacturer_ohe,model_ohe,transmission_ohe,fuelType_ohe = OHE()\n",
    "    \n",
    "    new_df = pd.concat([manufacturer_ohe,model_ohe,transmission_ohe,df.year,\n",
    "                        fuelType_ohe,df.engineSize,\n",
    "                        df.mileage,df.price],axis = 'columns')\n",
    "    return new_df"
   ]
  },
  {
   "cell_type": "code",
   "execution_count": 75,
   "id": "36f23fc5",
   "metadata": {},
   "outputs": [],
   "source": [
    "df_ohe = concatene_df()"
   ]
  },
  {
   "cell_type": "code",
   "execution_count": 76,
   "id": "8b662ede",
   "metadata": {},
   "outputs": [],
   "source": [
    "columns = df_ohe.columns"
   ]
  },
  {
   "cell_type": "code",
   "execution_count": 77,
   "id": "f62d96ba",
   "metadata": {},
   "outputs": [
    {
     "data": {
      "text/plain": [
       "Index(['Audi', 'BMW', 'Ford', 'Hyundi', 'Mercedes-Benz', 'Skoda', 'Toyota',\n",
       "       'Vauxhall', 'Volkswagen', ' 1 Series',\n",
       "       ...\n",
       "       'Manual', 'Semi-Auto', 'year', 'Diesel', 'Electric', 'Hybrid', 'Petrol',\n",
       "       'engineSize', 'mileage', 'price'],\n",
       "      dtype='object', length=176)"
      ]
     },
     "execution_count": 77,
     "metadata": {},
     "output_type": "execute_result"
    }
   ],
   "source": [
    "columns"
   ]
  },
  {
   "cell_type": "code",
   "execution_count": 78,
   "id": "f189ba2c",
   "metadata": {},
   "outputs": [],
   "source": [
    " remove_spaces_columns = [column.strip(' ') for column in columns]"
   ]
  },
  {
   "cell_type": "code",
   "execution_count": 79,
   "id": "cbbd26b3",
   "metadata": {},
   "outputs": [
    {
     "data": {
      "text/plain": [
       "['Audi',\n",
       " 'BMW',\n",
       " 'Ford',\n",
       " 'Hyundi',\n",
       " 'Mercedes-Benz',\n",
       " 'Skoda',\n",
       " 'Toyota',\n",
       " 'Vauxhall',\n",
       " 'Volkswagen',\n",
       " '1 Series',\n",
       " '2 Series',\n",
       " '3 Series',\n",
       " '4 Series',\n",
       " '5 Series',\n",
       " '6 Series',\n",
       " '7 Series',\n",
       " '8 Series',\n",
       " 'A Class',\n",
       " 'A1',\n",
       " 'A3',\n",
       " 'A4',\n",
       " 'A5',\n",
       " 'A6',\n",
       " 'A7',\n",
       " 'A8',\n",
       " 'Adam',\n",
       " 'Agila',\n",
       " 'Amarok',\n",
       " 'Antara',\n",
       " 'Arteon',\n",
       " 'Astra',\n",
       " 'Auris',\n",
       " 'Avensis',\n",
       " 'Aygo',\n",
       " 'B Class',\n",
       " 'B-MAX',\n",
       " 'Beetle',\n",
       " 'C Class',\n",
       " 'C-HR',\n",
       " 'C-MAX',\n",
       " 'CC',\n",
       " 'CL Class',\n",
       " 'CLA Class',\n",
       " 'CLS Class',\n",
       " 'Caddy Maxi Life',\n",
       " 'California',\n",
       " 'Camry',\n",
       " 'Caravelle',\n",
       " 'Citigo',\n",
       " 'Combo Life',\n",
       " 'Corolla',\n",
       " 'Corsa',\n",
       " 'Crossland X',\n",
       " 'E Class',\n",
       " 'EcoSport',\n",
       " 'Edge',\n",
       " 'Fabia',\n",
       " 'Fiesta',\n",
       " 'Focus',\n",
       " 'Fusion',\n",
       " 'G Class',\n",
       " 'GL Class',\n",
       " 'GLA Class',\n",
       " 'GLC Class',\n",
       " 'GLE Class',\n",
       " 'GLS Class',\n",
       " 'GT86',\n",
       " 'GTC',\n",
       " 'Galaxy',\n",
       " 'Golf',\n",
       " 'Golf SV',\n",
       " 'Grand C-MAX',\n",
       " 'Grand Tourneo Connect',\n",
       " 'Grandland X',\n",
       " 'Hilux',\n",
       " 'I10',\n",
       " 'I20',\n",
       " 'I30',\n",
       " 'I40',\n",
       " 'I800',\n",
       " 'IX20',\n",
       " 'IX35',\n",
       " 'Insignia',\n",
       " 'Ioniq',\n",
       " 'Jetta',\n",
       " 'KA',\n",
       " 'Ka+',\n",
       " 'Kamiq',\n",
       " 'Karoq',\n",
       " 'Kodiaq',\n",
       " 'Kona',\n",
       " 'Kuga',\n",
       " 'Land Cruiser',\n",
       " 'M Class',\n",
       " 'M2',\n",
       " 'M3',\n",
       " 'M4',\n",
       " 'M5',\n",
       " 'Meriva',\n",
       " 'Mokka',\n",
       " 'Mokka X',\n",
       " 'Mondeo',\n",
       " 'Mustang',\n",
       " 'Octavia',\n",
       " 'Passat',\n",
       " 'Polo',\n",
       " 'Prius',\n",
       " 'Puma',\n",
       " 'Q2',\n",
       " 'Q3',\n",
       " 'Q5',\n",
       " 'Q7',\n",
       " 'Q8',\n",
       " 'R8',\n",
       " 'RAV4',\n",
       " 'RS3',\n",
       " 'RS4',\n",
       " 'RS5',\n",
       " 'RS6',\n",
       " 'Rapid',\n",
       " 'Roomster',\n",
       " 'S Class',\n",
       " 'S-MAX',\n",
       " 'S3',\n",
       " 'SL CLASS',\n",
       " 'SLK',\n",
       " 'SQ5',\n",
       " 'Santa Fe',\n",
       " 'Scala',\n",
       " 'Scirocco',\n",
       " 'Sharan',\n",
       " 'Shuttle',\n",
       " 'Superb',\n",
       " 'T-Cross',\n",
       " 'T-Roc',\n",
       " 'TT',\n",
       " 'Tiguan',\n",
       " 'Tiguan Allspace',\n",
       " 'Touareg',\n",
       " 'Touran',\n",
       " 'Tourneo Connect',\n",
       " 'Tourneo Custom',\n",
       " 'Tucson',\n",
       " 'Up',\n",
       " 'V Class',\n",
       " 'Verso',\n",
       " 'Viva',\n",
       " 'Vivaro',\n",
       " 'X-CLASS',\n",
       " 'X1',\n",
       " 'X2',\n",
       " 'X3',\n",
       " 'X4',\n",
       " 'X5',\n",
       " 'X6',\n",
       " 'X7',\n",
       " 'Yaris',\n",
       " 'Yeti',\n",
       " 'Yeti Outdoor',\n",
       " 'Z4',\n",
       " 'Zafira',\n",
       " 'Zafira Tourer',\n",
       " 'i3',\n",
       " 'i8',\n",
       " 'Corsa',\n",
       " 'Automatic',\n",
       " 'Manual',\n",
       " 'Semi-Auto',\n",
       " 'year',\n",
       " 'Diesel',\n",
       " 'Electric',\n",
       " 'Hybrid',\n",
       " 'Petrol',\n",
       " 'engineSize',\n",
       " 'mileage',\n",
       " 'price']"
      ]
     },
     "execution_count": 79,
     "metadata": {},
     "output_type": "execute_result"
    }
   ],
   "source": [
    "remove_spaces_columns"
   ]
  },
  {
   "cell_type": "code",
   "execution_count": 80,
   "id": "8535dc82",
   "metadata": {},
   "outputs": [],
   "source": [
    "df_ohe.columns = remove_spaces_columns"
   ]
  },
  {
   "cell_type": "code",
   "execution_count": 81,
   "id": "e470e67d",
   "metadata": {},
   "outputs": [
    {
     "data": {
      "text/plain": [
       "Index(['Audi', 'BMW', 'Ford', 'Hyundi', 'Mercedes-Benz', 'Skoda', 'Toyota',\n",
       "       'Vauxhall', 'Volkswagen', '1 Series'],\n",
       "      dtype='object')"
      ]
     },
     "execution_count": 81,
     "metadata": {},
     "output_type": "execute_result"
    }
   ],
   "source": [
    "df_ohe.columns[:10]"
   ]
  },
  {
   "cell_type": "code",
   "execution_count": 82,
   "id": "3d3f3db3",
   "metadata": {},
   "outputs": [],
   "source": [
    "df_ohe.to_csv(\"cars_sales_ohe.csv\",index = False)"
   ]
  }
 ],
 "metadata": {
  "kernelspec": {
   "display_name": "Python 3",
   "language": "python",
   "name": "python3"
  },
  "language_info": {
   "codemirror_mode": {
    "name": "ipython",
    "version": 3
   },
   "file_extension": ".py",
   "mimetype": "text/x-python",
   "name": "python",
   "nbconvert_exporter": "python",
   "pygments_lexer": "ipython3",
   "version": "3.8.8"
  }
 },
 "nbformat": 4,
 "nbformat_minor": 5
}
