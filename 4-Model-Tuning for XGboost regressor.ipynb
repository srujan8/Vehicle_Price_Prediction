{
 "cells": [
  {
   "cell_type": "markdown",
   "id": "c3c6dfc3",
   "metadata": {},
   "source": [
    "## *Import Libraries*"
   ]
  },
  {
   "cell_type": "code",
   "execution_count": 1,
   "id": "67d657ef",
   "metadata": {},
   "outputs": [],
   "source": [
    "import pandas as pd\n",
    "import numpy as np\n",
    "import warnings"
   ]
  },
  {
   "cell_type": "code",
   "execution_count": 2,
   "id": "e4d6b2a4",
   "metadata": {},
   "outputs": [],
   "source": [
    "warnings.filterwarnings(\"ignore\")"
   ]
  },
  {
   "cell_type": "markdown",
   "id": "4734929a",
   "metadata": {},
   "source": [
    "## *Load Dataset*"
   ]
  },
  {
   "cell_type": "code",
   "execution_count": 3,
   "id": "7bc270df",
   "metadata": {},
   "outputs": [],
   "source": [
    "df = pd.read_csv(\"cars_sales_ohe.csv\")"
   ]
  },
  {
   "cell_type": "code",
   "execution_count": 4,
   "id": "7059fd0f",
   "metadata": {},
   "outputs": [],
   "source": [
    "def load_inputs_outputs():\n",
    "\n",
    "    X = df.drop(columns=['price'])\n",
    "    y = df.price\n",
    "    \n",
    "    return X,y"
   ]
  },
  {
   "cell_type": "code",
   "execution_count": 5,
   "id": "c51491e7",
   "metadata": {},
   "outputs": [],
   "source": [
    "X,y = load_inputs_outputs()"
   ]
  },
  {
   "cell_type": "markdown",
   "id": "fae48cfb",
   "metadata": {},
   "source": [
    "## *Split Data*"
   ]
  },
  {
   "cell_type": "code",
   "execution_count": 6,
   "id": "4950703f",
   "metadata": {},
   "outputs": [],
   "source": [
    "from sklearn.model_selection import train_test_split"
   ]
  },
  {
   "cell_type": "code",
   "execution_count": 7,
   "id": "e271d2ef",
   "metadata": {},
   "outputs": [],
   "source": [
    "X_train,X_test,Y_train,Y_test = train_test_split(X,y,test_size = 0.2,random_state = 42)"
   ]
  },
  {
   "cell_type": "markdown",
   "id": "f6ac3925",
   "metadata": {},
   "source": [
    "### *Array Transform*"
   ]
  },
  {
   "cell_type": "code",
   "execution_count": 8,
   "id": "e1e1cdc2",
   "metadata": {},
   "outputs": [],
   "source": [
    "def array(x):\n",
    "    return np.asarray(x)"
   ]
  },
  {
   "cell_type": "code",
   "execution_count": 9,
   "id": "17ec05bf",
   "metadata": {},
   "outputs": [],
   "source": [
    "X_train,Y_train = array(X_train),array(Y_train)\n",
    "X_test,Y_test = array(X_test),array(Y_test)"
   ]
  },
  {
   "cell_type": "markdown",
   "id": "5d37cc21",
   "metadata": {},
   "source": [
    "We create numpy arrays, as it will speed up the model training process."
   ]
  },
  {
   "cell_type": "code",
   "execution_count": 10,
   "id": "8f1ec2c4",
   "metadata": {},
   "outputs": [
    {
     "data": {
      "text/plain": [
       "((69185, 175), (17297, 175))"
      ]
     },
     "execution_count": 10,
     "metadata": {},
     "output_type": "execute_result"
    }
   ],
   "source": [
    "X_train.shape,X_test.shape"
   ]
  },
  {
   "cell_type": "markdown",
   "id": "4568ba00",
   "metadata": {},
   "source": [
    "## *Model Creation*"
   ]
  },
  {
   "cell_type": "code",
   "execution_count": 11,
   "id": "32c8e3a9",
   "metadata": {},
   "outputs": [],
   "source": [
    "from xgboost import XGBRegressor"
   ]
  },
  {
   "cell_type": "markdown",
   "id": "fc33ffef",
   "metadata": {},
   "source": [
    "### *Explanation of Parameters*\n",
    "\n",
    "* max_depth: Maximum depth of a tree. Increasing this value will make the model more complex and more likely to overfit. \n",
    "\n",
    "\n",
    "\n",
    "* learning_rate: Step size shrinkage used in update to prevents overfitting. After each boosting step, we can directly get the weights of new features, and eta shrinks the feature weights to make the boosting process more conservative.\n",
    "\n",
    "\n",
    "\n",
    "* subsample: Subsample ratio of the training instances. \n",
    "\n",
    "\n",
    "\n",
    "* colsample_bytree: colsample_bytree is the subsample ratio of columns when constructing each tree. Subsampling occurs once for every tree constructed.\n",
    "\n",
    "\n",
    "\n",
    "* colsample_bynode: colsample_bynode is the subsample ratio of columns for each node (split) subsampling occurs once every time a new split is evaluated. Columns are subsampled from the set of columns chosen for the current level.\n",
    "\n",
    "\n",
    "\n",
    "* gamma: Minimum loss reduction required to make a further partition on a leaf node of the tree. The larger gamma is, the more conservative the algorithm will be range.\n"
   ]
  },
  {
   "cell_type": "code",
   "execution_count": 12,
   "id": "1e540c21",
   "metadata": {},
   "outputs": [],
   "source": [
    "params1 = {\"max_depth\":8,\n",
    "           \"learning_rate\":0.01,\n",
    "           \"subsample\":0.9,\n",
    "           \"n_jobs\":-1,\n",
    "           \"n_estimators\":900}\n",
    "\n",
    "params2 = {\"max_depth\":9,\n",
    "           \"learning_rate\":0.01,\n",
    "           \"subsample\":0.8,\n",
    "           \"n_jobs\":-1,\n",
    "           \"n_estimators\":800}\n",
    "\n",
    "params3 = {\"max_depth\":10,\n",
    "           \"learning_rate\":0.01,\n",
    "           \"subsample\":0.7,\n",
    "           \"colsample_bytree\":0.7,\n",
    "            \"colsample_bynode\" : 0.8,\n",
    "           \"n_jobs\": -1,\n",
    "           \"gamma\":20,\n",
    "          \"n_estimators\":700}"
   ]
  },
  {
   "cell_type": "markdown",
   "id": "1cf75d22",
   "metadata": {},
   "source": [
    "In the last model, since you assign a max_depth equal to 10, you will have more chance of overfitting. Therefore, I chose to use other hyperparameters in order to minimize the effect, in addition to drastically reducing the number of estimators."
   ]
  },
  {
   "cell_type": "code",
   "execution_count": 13,
   "id": "7378fad3",
   "metadata": {},
   "outputs": [],
   "source": [
    "models = {'XGB 1':XGBRegressor(**params1),\n",
    "          'XGB 2':XGBRegressor(**params2),\n",
    "          'XGB 3':XGBRegressor(**params3)}"
   ]
  },
  {
   "cell_type": "markdown",
   "id": "66d7c257",
   "metadata": {},
   "source": [
    "Pass the parameters corresponding to each model as a dictionary argument."
   ]
  },
  {
   "cell_type": "markdown",
   "id": "be3aa859",
   "metadata": {},
   "source": [
    "### *Train Models*"
   ]
  },
  {
   "cell_type": "code",
   "execution_count": 14,
   "id": "738a2ea0",
   "metadata": {},
   "outputs": [],
   "source": [
    "def train_model(model):\n",
    "    return model.fit(X_train,Y_train)"
   ]
  },
  {
   "cell_type": "code",
   "execution_count": 15,
   "id": "7b7fe384",
   "metadata": {},
   "outputs": [],
   "source": [
    "for model in models.values():\n",
    "    train_model(model)"
   ]
  },
  {
   "cell_type": "code",
   "execution_count": 16,
   "id": "dd4bc5ef",
   "metadata": {},
   "outputs": [],
   "source": [
    "from sklearn.metrics import mean_squared_error"
   ]
  },
  {
   "cell_type": "code",
   "execution_count": 17,
   "id": "733ebe01",
   "metadata": {},
   "outputs": [],
   "source": [
    "def MSE(model):\n",
    "    \n",
    "    pred_train = model.predict(X_train)\n",
    "    pred_test = model.predict(X_test)\n",
    "    \n",
    "    mse_train = mean_squared_error(Y_train,pred_train)\n",
    "    mse_test = mean_squared_error(Y_test,pred_test)\n",
    "    \n",
    "    return mse_train,mse_test"
   ]
  },
  {
   "cell_type": "code",
   "execution_count": 18,
   "id": "10ef0e53",
   "metadata": {},
   "outputs": [
    {
     "name": "stdout",
     "output_type": "stream",
     "text": [
      "XGB 1 Train MSE: 3994753.4117338764\n",
      "XGB 1 Test MSE:  4608877.266877357\n",
      "XGB 2 Train MSE: 3597746.7250362164\n",
      "XGB 2 Test MSE:  4351160.770324405\n",
      "XGB 3 Train MSE: 3498283.265723869\n",
      "XGB 3 Test MSE:  4105622.523214639\n"
     ]
    }
   ],
   "source": [
    "for name,model in models.items():\n",
    "    mse_train,mse_test = MSE(model)\n",
    "    print(f\"{name} Train MSE: {mse_train}\")\n",
    "    print(f\"{name} Test MSE:  {mse_test}\")"
   ]
  },
  {
   "cell_type": "markdown",
   "id": "cbbb7546",
   "metadata": {},
   "source": [
    "The last model offers a good result, however we can still help you with more parameters to make the model more robust."
   ]
  },
  {
   "cell_type": "markdown",
   "id": "57b522e3",
   "metadata": {},
   "source": [
    "## *GridSearch CV*"
   ]
  },
  {
   "cell_type": "code",
   "execution_count": 19,
   "id": "31266142",
   "metadata": {},
   "outputs": [],
   "source": [
    "from sklearn.model_selection import GridSearchCV"
   ]
  },
  {
   "cell_type": "markdown",
   "id": "489dbec5",
   "metadata": {},
   "source": [
    "* n_estimators: Number of trees.\n",
    "* reg_alpha: L1 regularization term on weights. Increasing this value will make model more conservative."
   ]
  },
  {
   "cell_type": "code",
   "execution_count": 20,
   "id": "0d688806",
   "metadata": {},
   "outputs": [],
   "source": [
    "params = {\"n_estimators\":[600,700,800],\"reg_alpha\":[0.1,0.5,0.8]}"
   ]
  },
  {
   "cell_type": "code",
   "execution_count": 21,
   "id": "26e766c9",
   "metadata": {},
   "outputs": [],
   "source": [
    "base_model = XGBRegressor(max_depth = 10,\n",
    "                        learning_rate = 0.01,\n",
    "                       colsample_bytree = 0.7,\n",
    "                       subsample = 0.7,\n",
    "                       colsample_bynode = 0.8,\n",
    "                       gamma = 20,\n",
    "                        random_state = 0,\n",
    "                        n_jobs = -1)"
   ]
  },
  {
   "cell_type": "code",
   "execution_count": 22,
   "id": "c26d2e2e",
   "metadata": {},
   "outputs": [],
   "source": [
    "grid = GridSearchCV(base_model,params,cv = 3,n_jobs = -1)"
   ]
  },
  {
   "cell_type": "code",
   "execution_count": 23,
   "id": "7fc3a7c0",
   "metadata": {},
   "outputs": [
    {
     "data": {
      "text/html": [
       "<style>#sk-container-id-1 {color: black;background-color: white;}#sk-container-id-1 pre{padding: 0;}#sk-container-id-1 div.sk-toggleable {background-color: white;}#sk-container-id-1 label.sk-toggleable__label {cursor: pointer;display: block;width: 100%;margin-bottom: 0;padding: 0.3em;box-sizing: border-box;text-align: center;}#sk-container-id-1 label.sk-toggleable__label-arrow:before {content: \"▸\";float: left;margin-right: 0.25em;color: #696969;}#sk-container-id-1 label.sk-toggleable__label-arrow:hover:before {color: black;}#sk-container-id-1 div.sk-estimator:hover label.sk-toggleable__label-arrow:before {color: black;}#sk-container-id-1 div.sk-toggleable__content {max-height: 0;max-width: 0;overflow: hidden;text-align: left;background-color: #f0f8ff;}#sk-container-id-1 div.sk-toggleable__content pre {margin: 0.2em;color: black;border-radius: 0.25em;background-color: #f0f8ff;}#sk-container-id-1 input.sk-toggleable__control:checked~div.sk-toggleable__content {max-height: 200px;max-width: 100%;overflow: auto;}#sk-container-id-1 input.sk-toggleable__control:checked~label.sk-toggleable__label-arrow:before {content: \"▾\";}#sk-container-id-1 div.sk-estimator input.sk-toggleable__control:checked~label.sk-toggleable__label {background-color: #d4ebff;}#sk-container-id-1 div.sk-label input.sk-toggleable__control:checked~label.sk-toggleable__label {background-color: #d4ebff;}#sk-container-id-1 input.sk-hidden--visually {border: 0;clip: rect(1px 1px 1px 1px);clip: rect(1px, 1px, 1px, 1px);height: 1px;margin: -1px;overflow: hidden;padding: 0;position: absolute;width: 1px;}#sk-container-id-1 div.sk-estimator {font-family: monospace;background-color: #f0f8ff;border: 1px dotted black;border-radius: 0.25em;box-sizing: border-box;margin-bottom: 0.5em;}#sk-container-id-1 div.sk-estimator:hover {background-color: #d4ebff;}#sk-container-id-1 div.sk-parallel-item::after {content: \"\";width: 100%;border-bottom: 1px solid gray;flex-grow: 1;}#sk-container-id-1 div.sk-label:hover label.sk-toggleable__label {background-color: #d4ebff;}#sk-container-id-1 div.sk-serial::before {content: \"\";position: absolute;border-left: 1px solid gray;box-sizing: border-box;top: 0;bottom: 0;left: 50%;z-index: 0;}#sk-container-id-1 div.sk-serial {display: flex;flex-direction: column;align-items: center;background-color: white;padding-right: 0.2em;padding-left: 0.2em;position: relative;}#sk-container-id-1 div.sk-item {position: relative;z-index: 1;}#sk-container-id-1 div.sk-parallel {display: flex;align-items: stretch;justify-content: center;background-color: white;position: relative;}#sk-container-id-1 div.sk-item::before, #sk-container-id-1 div.sk-parallel-item::before {content: \"\";position: absolute;border-left: 1px solid gray;box-sizing: border-box;top: 0;bottom: 0;left: 50%;z-index: -1;}#sk-container-id-1 div.sk-parallel-item {display: flex;flex-direction: column;z-index: 1;position: relative;background-color: white;}#sk-container-id-1 div.sk-parallel-item:first-child::after {align-self: flex-end;width: 50%;}#sk-container-id-1 div.sk-parallel-item:last-child::after {align-self: flex-start;width: 50%;}#sk-container-id-1 div.sk-parallel-item:only-child::after {width: 0;}#sk-container-id-1 div.sk-dashed-wrapped {border: 1px dashed gray;margin: 0 0.4em 0.5em 0.4em;box-sizing: border-box;padding-bottom: 0.4em;background-color: white;}#sk-container-id-1 div.sk-label label {font-family: monospace;font-weight: bold;display: inline-block;line-height: 1.2em;}#sk-container-id-1 div.sk-label-container {text-align: center;}#sk-container-id-1 div.sk-container {/* jupyter's `normalize.less` sets `[hidden] { display: none; }` but bootstrap.min.css set `[hidden] { display: none !important; }` so we also need the `!important` here to be able to override the default hidden behavior on the sphinx rendered scikit-learn.org. See: https://github.com/scikit-learn/scikit-learn/issues/21755 */display: inline-block !important;position: relative;}#sk-container-id-1 div.sk-text-repr-fallback {display: none;}</style><div id=\"sk-container-id-1\" class=\"sk-top-container\"><div class=\"sk-text-repr-fallback\"><pre>GridSearchCV(cv=3,\n",
       "             estimator=XGBRegressor(base_score=None, booster=None,\n",
       "                                    colsample_bylevel=None,\n",
       "                                    colsample_bynode=0.8, colsample_bytree=0.7,\n",
       "                                    enable_categorical=False, gamma=20,\n",
       "                                    gpu_id=None, importance_type=None,\n",
       "                                    interaction_constraints=None,\n",
       "                                    learning_rate=0.01, max_delta_step=None,\n",
       "                                    max_depth=10, min_child_weight=None,\n",
       "                                    missing=nan, monotone_constraints=None,\n",
       "                                    n_estimators=100, n_jobs=-1,\n",
       "                                    num_parallel_tree=None, predictor=None,\n",
       "                                    random_state=0, reg_alpha=None,\n",
       "                                    reg_lambda=None, scale_pos_weight=None,\n",
       "                                    subsample=0.7, tree_method=None,\n",
       "                                    validate_parameters=None, verbosity=None),\n",
       "             n_jobs=-1,\n",
       "             param_grid={&#x27;n_estimators&#x27;: [600, 700, 800],\n",
       "                         &#x27;reg_alpha&#x27;: [0.1, 0.5, 0.8]})</pre><b>In a Jupyter environment, please rerun this cell to show the HTML representation or trust the notebook. <br />On GitHub, the HTML representation is unable to render, please try loading this page with nbviewer.org.</b></div><div class=\"sk-container\" hidden><div class=\"sk-item sk-dashed-wrapped\"><div class=\"sk-label-container\"><div class=\"sk-label sk-toggleable\"><input class=\"sk-toggleable__control sk-hidden--visually\" id=\"sk-estimator-id-1\" type=\"checkbox\" ><label for=\"sk-estimator-id-1\" class=\"sk-toggleable__label sk-toggleable__label-arrow\">GridSearchCV</label><div class=\"sk-toggleable__content\"><pre>GridSearchCV(cv=3,\n",
       "             estimator=XGBRegressor(base_score=None, booster=None,\n",
       "                                    colsample_bylevel=None,\n",
       "                                    colsample_bynode=0.8, colsample_bytree=0.7,\n",
       "                                    enable_categorical=False, gamma=20,\n",
       "                                    gpu_id=None, importance_type=None,\n",
       "                                    interaction_constraints=None,\n",
       "                                    learning_rate=0.01, max_delta_step=None,\n",
       "                                    max_depth=10, min_child_weight=None,\n",
       "                                    missing=nan, monotone_constraints=None,\n",
       "                                    n_estimators=100, n_jobs=-1,\n",
       "                                    num_parallel_tree=None, predictor=None,\n",
       "                                    random_state=0, reg_alpha=None,\n",
       "                                    reg_lambda=None, scale_pos_weight=None,\n",
       "                                    subsample=0.7, tree_method=None,\n",
       "                                    validate_parameters=None, verbosity=None),\n",
       "             n_jobs=-1,\n",
       "             param_grid={&#x27;n_estimators&#x27;: [600, 700, 800],\n",
       "                         &#x27;reg_alpha&#x27;: [0.1, 0.5, 0.8]})</pre></div></div></div><div class=\"sk-parallel\"><div class=\"sk-parallel-item\"><div class=\"sk-item\"><div class=\"sk-label-container\"><div class=\"sk-label sk-toggleable\"><input class=\"sk-toggleable__control sk-hidden--visually\" id=\"sk-estimator-id-2\" type=\"checkbox\" ><label for=\"sk-estimator-id-2\" class=\"sk-toggleable__label sk-toggleable__label-arrow\">estimator: XGBRegressor</label><div class=\"sk-toggleable__content\"><pre>XGBRegressor(base_score=None, booster=None, colsample_bylevel=None,\n",
       "             colsample_bynode=0.8, colsample_bytree=0.7,\n",
       "             enable_categorical=False, gamma=20, gpu_id=None,\n",
       "             importance_type=None, interaction_constraints=None,\n",
       "             learning_rate=0.01, max_delta_step=None, max_depth=10,\n",
       "             min_child_weight=None, missing=nan, monotone_constraints=None,\n",
       "             n_estimators=100, n_jobs=-1, num_parallel_tree=None,\n",
       "             predictor=None, random_state=0, reg_alpha=None, reg_lambda=None,\n",
       "             scale_pos_weight=None, subsample=0.7, tree_method=None,\n",
       "             validate_parameters=None, verbosity=None)</pre></div></div></div><div class=\"sk-serial\"><div class=\"sk-item\"><div class=\"sk-estimator sk-toggleable\"><input class=\"sk-toggleable__control sk-hidden--visually\" id=\"sk-estimator-id-3\" type=\"checkbox\" ><label for=\"sk-estimator-id-3\" class=\"sk-toggleable__label sk-toggleable__label-arrow\">XGBRegressor</label><div class=\"sk-toggleable__content\"><pre>XGBRegressor(base_score=None, booster=None, colsample_bylevel=None,\n",
       "             colsample_bynode=0.8, colsample_bytree=0.7,\n",
       "             enable_categorical=False, gamma=20, gpu_id=None,\n",
       "             importance_type=None, interaction_constraints=None,\n",
       "             learning_rate=0.01, max_delta_step=None, max_depth=10,\n",
       "             min_child_weight=None, missing=nan, monotone_constraints=None,\n",
       "             n_estimators=100, n_jobs=-1, num_parallel_tree=None,\n",
       "             predictor=None, random_state=0, reg_alpha=None, reg_lambda=None,\n",
       "             scale_pos_weight=None, subsample=0.7, tree_method=None,\n",
       "             validate_parameters=None, verbosity=None)</pre></div></div></div></div></div></div></div></div></div></div>"
      ],
      "text/plain": [
       "GridSearchCV(cv=3,\n",
       "             estimator=XGBRegressor(base_score=None, booster=None,\n",
       "                                    colsample_bylevel=None,\n",
       "                                    colsample_bynode=0.8, colsample_bytree=0.7,\n",
       "                                    enable_categorical=False, gamma=20,\n",
       "                                    gpu_id=None, importance_type=None,\n",
       "                                    interaction_constraints=None,\n",
       "                                    learning_rate=0.01, max_delta_step=None,\n",
       "                                    max_depth=10, min_child_weight=None,\n",
       "                                    missing=nan, monotone_constraints=None,\n",
       "                                    n_estimators=100, n_jobs=-1,\n",
       "                                    num_parallel_tree=None, predictor=None,\n",
       "                                    random_state=0, reg_alpha=None,\n",
       "                                    reg_lambda=None, scale_pos_weight=None,\n",
       "                                    subsample=0.7, tree_method=None,\n",
       "                                    validate_parameters=None, verbosity=None),\n",
       "             n_jobs=-1,\n",
       "             param_grid={'n_estimators': [600, 700, 800],\n",
       "                         'reg_alpha': [0.1, 0.5, 0.8]})"
      ]
     },
     "execution_count": 23,
     "metadata": {},
     "output_type": "execute_result"
    }
   ],
   "source": [
    "grid.fit(X_train,Y_train)"
   ]
  },
  {
   "cell_type": "code",
   "execution_count": 24,
   "id": "6da7c47b",
   "metadata": {},
   "outputs": [
    {
     "data": {
      "text/plain": [
       "{'n_estimators': 800, 'reg_alpha': 0.1}"
      ]
     },
     "execution_count": 24,
     "metadata": {},
     "output_type": "execute_result"
    }
   ],
   "source": [
    "grid.best_params_"
   ]
  },
  {
   "cell_type": "markdown",
   "id": "c1fd2eed",
   "metadata": {},
   "source": [
    "## *Best Model*"
   ]
  },
  {
   "cell_type": "code",
   "execution_count": 25,
   "id": "ae2bc71c",
   "metadata": {},
   "outputs": [],
   "source": [
    "best_model = grid.best_estimator_"
   ]
  },
  {
   "cell_type": "code",
   "execution_count": 26,
   "id": "22140427",
   "metadata": {},
   "outputs": [],
   "source": [
    "mse_train,mse_test = MSE(best_model)"
   ]
  },
  {
   "cell_type": "code",
   "execution_count": 27,
   "id": "3b5b0d6a",
   "metadata": {
    "scrolled": true
   },
   "outputs": [
    {
     "name": "stdout",
     "output_type": "stream",
     "text": [
      " Train MSE: 3386712.2032006355\n",
      " Test MSE:  4023474.084994841\n"
     ]
    }
   ],
   "source": [
    "print(f\" Train MSE: {mse_train}\")\n",
    "print(f\" Test MSE:  {mse_test}\")"
   ]
  },
  {
   "cell_type": "markdown",
   "id": "2278c694",
   "metadata": {},
   "source": [
    "Thanks to the parameters, the MSE for the test data decreases, something that is very positive, reducing the effect of overfitting the model."
   ]
  },
  {
   "cell_type": "code",
   "execution_count": null,
   "id": "b0186013",
   "metadata": {},
   "outputs": [],
   "source": []
  },
  {
   "cell_type": "code",
   "execution_count": null,
   "id": "f5d24b9c",
   "metadata": {},
   "outputs": [],
   "source": []
  },
  {
   "cell_type": "code",
   "execution_count": null,
   "id": "bb2b0b63",
   "metadata": {},
   "outputs": [],
   "source": []
  }
 ],
 "metadata": {
  "kernelspec": {
   "display_name": "Python 3",
   "language": "python",
   "name": "python3"
  },
  "language_info": {
   "codemirror_mode": {
    "name": "ipython",
    "version": 3
   },
   "file_extension": ".py",
   "mimetype": "text/x-python",
   "name": "python",
   "nbconvert_exporter": "python",
   "pygments_lexer": "ipython3",
   "version": "3.8.8"
  }
 },
 "nbformat": 4,
 "nbformat_minor": 5
}
