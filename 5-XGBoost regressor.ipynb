{
 "cells": [
  {
   "cell_type": "markdown",
   "id": "c3c6dfc3",
   "metadata": {},
   "source": [
    "## *Import Libraries*"
   ]
  },
  {
   "cell_type": "code",
   "execution_count": 1,
   "id": "67d657ef",
   "metadata": {},
   "outputs": [],
   "source": [
    "import pandas as pd\n",
    "import numpy as np\n",
    "import matplotlib.pyplot as plt\n",
    "import seaborn as sns\n",
    "import warnings"
   ]
  },
  {
   "cell_type": "code",
   "execution_count": 2,
   "id": "e4d6b2a4",
   "metadata": {},
   "outputs": [],
   "source": [
    "warnings.filterwarnings(\"ignore\")"
   ]
  },
  {
   "cell_type": "markdown",
   "id": "4734929a",
   "metadata": {},
   "source": [
    "## *Load Dataset*"
   ]
  },
  {
   "cell_type": "code",
   "execution_count": 3,
   "id": "7bc270df",
   "metadata": {},
   "outputs": [],
   "source": [
    "df = pd.read_csv(\"cars_sales_ohe.csv\")"
   ]
  },
  {
   "cell_type": "code",
   "execution_count": 4,
   "id": "7059fd0f",
   "metadata": {},
   "outputs": [],
   "source": [
    "X = df.drop(columns=['price'])\n",
    "y = df.price"
   ]
  },
  {
   "cell_type": "markdown",
   "id": "fae48cfb",
   "metadata": {},
   "source": [
    "## *Split Data*"
   ]
  },
  {
   "cell_type": "code",
   "execution_count": 6,
   "id": "4950703f",
   "metadata": {},
   "outputs": [],
   "source": [
    "from sklearn.model_selection import train_test_split"
   ]
  },
  {
   "cell_type": "code",
   "execution_count": 7,
   "id": "e271d2ef",
   "metadata": {},
   "outputs": [],
   "source": [
    "X_train,X_test,Y_train,Y_test = train_test_split(X,y,test_size = 0.2,random_state = 42)"
   ]
  },
  {
   "cell_type": "markdown",
   "id": "f6ac3925",
   "metadata": {},
   "source": [
    "### *Array Transform*"
   ]
  },
  {
   "cell_type": "code",
   "execution_count": 8,
   "id": "e1e1cdc2",
   "metadata": {},
   "outputs": [],
   "source": [
    "def array(x):\n",
    "    return np.asarray(x)"
   ]
  },
  {
   "cell_type": "code",
   "execution_count": 9,
   "id": "17ec05bf",
   "metadata": {},
   "outputs": [],
   "source": [
    "X_train,Y_train = array(X_train),array(Y_train)\n",
    "X_test,Y_test = array(X_test),array(Y_test)"
   ]
  },
  {
   "cell_type": "markdown",
   "id": "5d37cc21",
   "metadata": {},
   "source": [
    "We create numpy arrays, as it will speed up the model training process."
   ]
  },
  {
   "cell_type": "code",
   "execution_count": 10,
   "id": "8f1ec2c4",
   "metadata": {},
   "outputs": [
    {
     "data": {
      "text/plain": [
       "((69186, 175), (17297, 175))"
      ]
     },
     "execution_count": 10,
     "metadata": {},
     "output_type": "execute_result"
    }
   ],
   "source": [
    "X_train.shape,X_test.shape"
   ]
  },
  {
   "cell_type": "markdown",
   "id": "4568ba00",
   "metadata": {},
   "source": [
    "## *Model Creation*"
   ]
  },
  {
   "cell_type": "code",
   "execution_count": 11,
   "id": "8188d316",
   "metadata": {},
   "outputs": [],
   "source": [
    "from xgboost import XGBRegressor"
   ]
  },
  {
   "cell_type": "code",
   "execution_count": 12,
   "id": "6f56b0c9",
   "metadata": {},
   "outputs": [],
   "source": [
    "xgb = XGBRegressor(max_depth = 10,\n",
    "                   n_estimators = 800,\n",
    "                   learning_rate = 0.01,\n",
    "                   colsample_bytree = 0.7,\n",
    "                   subsample = 0.7,\n",
    "                   colsample_bynode = 0.8,\n",
    "                   reg_alpha = 0.5,\n",
    "                   gamma = 20,\n",
    "                    n_jobs = -1)"
   ]
  },
  {
   "cell_type": "code",
   "execution_count": 13,
   "id": "3fbd15dd",
   "metadata": {},
   "outputs": [
    {
     "data": {
      "text/plain": [
       "XGBRegressor(base_score=0.5, booster='gbtree', colsample_bylevel=1,\n",
       "             colsample_bynode=0.8, colsample_bytree=0.7,\n",
       "             enable_categorical=False, gamma=20, gpu_id=-1,\n",
       "             importance_type=None, interaction_constraints='',\n",
       "             learning_rate=0.01, max_delta_step=0, max_depth=10,\n",
       "             min_child_weight=1, missing=nan, monotone_constraints='()',\n",
       "             n_estimators=800, n_jobs=-1, num_parallel_tree=1, predictor='auto',\n",
       "             random_state=0, reg_alpha=0.5, reg_lambda=1, scale_pos_weight=1,\n",
       "             subsample=0.7, tree_method='exact', validate_parameters=1,\n",
       "             verbosity=None)"
      ]
     },
     "execution_count": 13,
     "metadata": {},
     "output_type": "execute_result"
    }
   ],
   "source": [
    "xgb.fit(X_train,Y_train)"
   ]
  },
  {
   "cell_type": "markdown",
   "id": "49623013",
   "metadata": {},
   "source": [
    "## *Evaluation*"
   ]
  },
  {
   "cell_type": "markdown",
   "id": "c5837614",
   "metadata": {},
   "source": [
    "#### *Mean Squared Error*\n",
    "\n",
    "It is the average error between the predictions generated from the model and the original values."
   ]
  },
  {
   "cell_type": "code",
   "execution_count": 14,
   "id": "1ff36fa7",
   "metadata": {},
   "outputs": [],
   "source": [
    "from sklearn.metrics import mean_squared_error"
   ]
  },
  {
   "cell_type": "code",
   "execution_count": 15,
   "id": "e0b2a5c7",
   "metadata": {},
   "outputs": [],
   "source": [
    "def MSE(model):\n",
    "    \n",
    "    pred_train = model.predict(X_train)\n",
    "    pred_test = model.predict(X_test)\n",
    "    \n",
    "    mse_train = mean_squared_error(Y_train,pred_train)\n",
    "    mse_test = mean_squared_error(Y_test,pred_test)\n",
    "    \n",
    "    \n",
    "    return mse_train,mse_test"
   ]
  },
  {
   "cell_type": "code",
   "execution_count": 16,
   "id": "44835a1a",
   "metadata": {},
   "outputs": [],
   "source": [
    "mse_train,mse_test = MSE(xgb)"
   ]
  },
  {
   "cell_type": "code",
   "execution_count": 17,
   "id": "32e7a312",
   "metadata": {},
   "outputs": [
    {
     "name": "stdout",
     "output_type": "stream",
     "text": [
      "MSE Train: 3426481.8800247484\n",
      "MSE Test:  3820895.5054136794\n"
     ]
    }
   ],
   "source": [
    "print(f\"MSE Train: {mse_train}\")\n",
    "print(f\"MSE Test:  {mse_test}\")"
   ]
  },
  {
   "cell_type": "markdown",
   "id": "a9a86e26",
   "metadata": {},
   "source": [
    "Thanks to hyperparameter tuning, it lowers the MSE for the test data, which is quite a positive effect."
   ]
  },
  {
   "cell_type": "markdown",
   "id": "02034cdc",
   "metadata": {},
   "source": [
    "#### *Determination Coefficient*\n",
    "In statistics, the coefficient of determination, called R²,it consists of seeing the degree of covariance explained by the model, the closer the R², the greater the closeness to the original values. "
   ]
  },
  {
   "cell_type": "code",
   "execution_count": 18,
   "id": "978c98af",
   "metadata": {},
   "outputs": [
    {
     "name": "stdout",
     "output_type": "stream",
     "text": [
      "R*2 Train: 0.9554883336390929\n",
      "R*2 Test:  0.950608607937317\n"
     ]
    }
   ],
   "source": [
    "print(f\"R*2 Train: {xgb.score(X_train,Y_train)}\")\n",
    "print(f\"R*2 Test:  {xgb.score(X_test,Y_test)}\")"
   ]
  },
  {
   "cell_type": "markdown",
   "id": "4033a6a0",
   "metadata": {},
   "source": [
    "### *Cross Validation*\n",
    "\n",
    "It consists of evaluating a subsampling of the data set determined by the user, it serves to have a better idea of the percentage of generalization of the model."
   ]
  },
  {
   "cell_type": "code",
   "execution_count": 19,
   "id": "183d68b3",
   "metadata": {},
   "outputs": [],
   "source": [
    "from sklearn.model_selection import cross_val_score"
   ]
  },
  {
   "cell_type": "code",
   "execution_count": 20,
   "id": "4524fabe",
   "metadata": {},
   "outputs": [],
   "source": [
    "cv = cross_val_score(xgb,X_test,Y_test,cv = 10,n_jobs = -1)"
   ]
  },
  {
   "cell_type": "code",
   "execution_count": 21,
   "id": "cd3aa763",
   "metadata": {},
   "outputs": [
    {
     "data": {
      "text/plain": [
       "array([0.92197   , 0.9234041 , 0.94053414, 0.94236197, 0.93875546,\n",
       "       0.92897888, 0.94274282, 0.94625074, 0.94718143, 0.92974187])"
      ]
     },
     "execution_count": 21,
     "metadata": {},
     "output_type": "execute_result"
    }
   ],
   "source": [
    "cv"
   ]
  },
  {
   "cell_type": "markdown",
   "id": "dcf3103d",
   "metadata": {},
   "source": [
    "In general, it has good explanatory power for each of the 10 random subsamples."
   ]
  },
  {
   "cell_type": "code",
   "execution_count": 22,
   "id": "b87d607f",
   "metadata": {},
   "outputs": [
    {
     "data": {
      "text/plain": [
       "0.936192140400507"
      ]
     },
     "execution_count": 22,
     "metadata": {},
     "output_type": "execute_result"
    }
   ],
   "source": [
    "cv.mean()"
   ]
  },
  {
   "cell_type": "markdown",
   "id": "5269a83c",
   "metadata": {},
   "source": [
    "It offers a generalization percentage of 94%, which is quite a high percentage, which means that the model is able to describe a high percentage of the data."
   ]
  },
  {
   "cell_type": "code",
   "execution_count": 23,
   "id": "79864c5e",
   "metadata": {},
   "outputs": [],
   "source": [
    "sns.set_style(style = \"whitegrid\")"
   ]
  },
  {
   "cell_type": "code",
   "execution_count": 24,
   "id": "c4dc251a",
   "metadata": {},
   "outputs": [],
   "source": [
    "pred = xgb.predict(X_test)"
   ]
  },
  {
   "cell_type": "code",
   "execution_count": 25,
   "id": "4de743c4",
   "metadata": {},
   "outputs": [],
   "source": [
    "def main():\n",
    "    \n",
    "    fig = plt.subplots(1,1,figsize = (20,8))\n",
    "    plt.scatter(Y_test,pred,marker = \"+\",c= \"#adff2f\",alpha = 0.4,label = \"Predictions\")\n",
    "    plt.plot(Y_test,Y_test,c = \"#4000ff\",lw = 5,label = \"True Values\")\n",
    "    plt.legend()"
   ]
  },
  {
   "cell_type": "code",
   "execution_count": 26,
   "id": "dde78707",
   "metadata": {},
   "outputs": [
    {
     "data": {
      "image/png": "[encoded data removed]",
      "text/plain": [
       "<Figure size 1440x576 with 1 Axes>"
      ]
     },
     "metadata": {
      "needs_background": "light"
     },
     "output_type": "display_data"
    }
   ],
   "source": [
    "_ = main()"
   ]
  },
  {
   "cell_type": "code",
   "execution_count": 27,
   "id": "bc33575a",
   "metadata": {},
   "outputs": [],
   "source": [
    "df_predictions = pd.DataFrame({'True Values':Y_test,\"Predictions\":pred})"
   ]
  },
  {
   "cell_type": "code",
   "execution_count": 28,
   "id": "4dbcbd81",
   "metadata": {
    "scrolled": true
   },
   "outputs": [
    {
     "data": {
      "text/html": [
       "<div>\n",
       "<style scoped>\n",
       "    .dataframe tbody tr th:only-of-type {\n",
       "        vertical-align: middle;\n",
       "    }\n",
       "\n",
       "    .dataframe tbody tr th {\n",
       "        vertical-align: top;\n",
       "    }\n",
       "\n",
       "    .dataframe thead th {\n",
       "        text-align: right;\n",
       "    }\n",
       "</style>\n",
       "<table border=\"1\" class=\"dataframe\">\n",
       "  <thead>\n",
       "    <tr style=\"text-align: right;\">\n",
       "      <th></th>\n",
       "      <th>True Values</th>\n",
       "      <th>Predictions</th>\n",
       "    </tr>\n",
       "  </thead>\n",
       "  <tbody>\n",
       "    <tr>\n",
       "      <th>16104</th>\n",
       "      <td>25500</td>\n",
       "      <td>27827.382812</td>\n",
       "    </tr>\n",
       "    <tr>\n",
       "      <th>4453</th>\n",
       "      <td>7500</td>\n",
       "      <td>7229.646484</td>\n",
       "    </tr>\n",
       "    <tr>\n",
       "      <th>7060</th>\n",
       "      <td>15490</td>\n",
       "      <td>16779.384766</td>\n",
       "    </tr>\n",
       "    <tr>\n",
       "      <th>10216</th>\n",
       "      <td>11490</td>\n",
       "      <td>11269.562500</td>\n",
       "    </tr>\n",
       "    <tr>\n",
       "      <th>603</th>\n",
       "      <td>16557</td>\n",
       "      <td>14838.195312</td>\n",
       "    </tr>\n",
       "    <tr>\n",
       "      <th>486</th>\n",
       "      <td>17520</td>\n",
       "      <td>16443.957031</td>\n",
       "    </tr>\n",
       "    <tr>\n",
       "      <th>2185</th>\n",
       "      <td>18999</td>\n",
       "      <td>19118.751953</td>\n",
       "    </tr>\n",
       "    <tr>\n",
       "      <th>16000</th>\n",
       "      <td>17500</td>\n",
       "      <td>16971.375000</td>\n",
       "    </tr>\n",
       "    <tr>\n",
       "      <th>15545</th>\n",
       "      <td>6710</td>\n",
       "      <td>7755.176758</td>\n",
       "    </tr>\n",
       "    <tr>\n",
       "      <th>4635</th>\n",
       "      <td>10200</td>\n",
       "      <td>9547.789062</td>\n",
       "    </tr>\n",
       "  </tbody>\n",
       "</table>\n",
       "</div>"
      ],
      "text/plain": [
       "       True Values   Predictions\n",
       "16104        25500  27827.382812\n",
       "4453          7500   7229.646484\n",
       "7060         15490  16779.384766\n",
       "10216        11490  11269.562500\n",
       "603          16557  14838.195312\n",
       "486          17520  16443.957031\n",
       "2185         18999  19118.751953\n",
       "16000        17500  16971.375000\n",
       "15545         6710   7755.176758\n",
       "4635         10200   9547.789062"
      ]
     },
     "execution_count": 28,
     "metadata": {},
     "output_type": "execute_result"
    }
   ],
   "source": [
    "df_predictions.sample(n = 10,random_state = 50)"
   ]
  },
  {
   "cell_type": "markdown",
   "id": "1b657389",
   "metadata": {},
   "source": [
    "As seen in the graph and in the model metrics, the predictions are very close to the original value."
   ]
  },
  {
   "cell_type": "markdown",
   "id": "4055ae9d",
   "metadata": {},
   "source": []
  },
  {
   "cell_type": "markdown",
   "id": "9cf9ae2c",
   "metadata": {},
   "source": [
    "Due to the excessive number of predictor variables, I opted to create a function in order to extract the most relevant variables determined by the model."
   ]
  },
  {
   "cell_type": "markdown",
   "id": "69b830d2",
   "metadata": {},
   "source": [
    "* If the vehicle has a Manual transmission, the price of the vehicle generally decreases, it is less expensive with an automatic or semi-automatic transmission.\n",
    "\n",
    "\n",
    "\n",
    "* The engine size is a variable that has a lot of weight. Since the greater the capacity, the greater the technical capacity of the car.\n",
    "\n",
    "\n",
    "\n",
    "* The year of manufacture includes in the price, since if a vehicle of the same model. It will make the price of the car more expensive, since it will be a more recent model.\n",
    "\n",
    "\n",
    "\n",
    "\n",
    "\n",
    "\n",
    "* Other variables that complement the predictions well is the vehicle brand, since for example it is well known that Mercedes-benz vehicles belong to high-end manufacturers, which means that the price per car is much higher. Also the number of miles traveled, since generally a vehicle with higher mileage has more wear, which causes a devaluation of the car."
   ]
  },
  {
   "cell_type": "markdown",
   "id": "87d45a1c",
   "metadata": {},
   "source": [
    "## New Predictions"
   ]
  },
  {
   "cell_type": "code",
   "execution_count": 37,
   "id": "1061deca",
   "metadata": {},
   "outputs": [],
   "source": [
    "columns = X.columns"
   ]
  },
  {
   "cell_type": "code",
   "execution_count": 38,
   "id": "ad214901",
   "metadata": {
    "scrolled": false
   },
   "outputs": [
    {
     "name": "stdout",
     "output_type": "stream",
     "text": [
      "168 year\n",
      "173 engineSize\n",
      "174 mileage\n"
     ]
    }
   ],
   "source": [
    "for index,column in enumerate(columns):\n",
    "   if column == 'year' or column == 'engineSize' or column == 'mileage':\n",
    "    print(index,column)"
   ]
  },
  {
   "cell_type": "markdown",
   "id": "fd3fe885",
   "metadata": {},
   "source": [
    "With the enumerate function, the indices of each object are obtained, in this case of each variable of interest, it will help us to know the exact index number for these variables that do not require OHE."
   ]
  },
  {
   "cell_type": "code",
   "execution_count": 54,
   "id": "9c7581df",
   "metadata": {},
   "outputs": [],
   "source": [
    "def predict(manufacturer,model,transmission,year,fuel_type,engineSize,mileage):\n",
    "    \n",
    "    data = np.zeros(len(columns))\n",
    "    \n",
    "    manufacturer_idx = np.where(columns == manufacturer)[0][0]\n",
    "    model_idx = np.where(columns == model)[0][0]\n",
    "    transmission_idx = np.where(columns == transmission)[0][0]\n",
    "    fuel_type_idx = np.where(columns == fuel_type)[0][0]\n",
    "    \n",
    "    data[165] = year\n",
    "    data[170] = engineSize\n",
    "    data[171] = mileage\n",
    "\n",
    "    \n",
    "    if manufacturer_idx >=0:\n",
    "        data[manufacturer_idx] = 1\n",
    "\n",
    "    if model_idx >=0:\n",
    "        data[model_idx] = 1\n",
    "        \n",
    "    if transmission_idx >=0:\n",
    "        data[transmission_idx] = 1\n",
    "        \n",
    "    if fuel_type_idx >=0:\n",
    "        data[fuel_type_idx] = 1\n",
    "        \n",
    "    data = np.asarray([data])\n",
    "    pred = xgb.predict(data)\n",
    "    \n",
    "    return np.round(pred,2)"
   ]
  },
  {
   "cell_type": "code",
   "execution_count": 55,
   "id": "7bd9b37a",
   "metadata": {},
   "outputs": [
    {
     "data": {
      "text/plain": [
       "array([10768.69], dtype=float32)"
      ]
     },
     "execution_count": 55,
     "metadata": {},
     "output_type": "execute_result"
    }
   ],
   "source": [
    "predict('Ford','Mustang','Automatic',2020,'Petrol',5.0,3500)"
   ]
  },
  {
   "cell_type": "code",
   "execution_count": 56,
   "id": "7c780a22",
   "metadata": {},
   "outputs": [
    {
     "data": {
      "text/plain": [
       "array([9991.47], dtype=float32)"
      ]
     },
     "execution_count": 56,
     "metadata": {},
     "output_type": "execute_result"
    }
   ],
   "source": [
    "predict('Toyota','Corolla','Automatic',2019,'Hybrid',2.0,18200)"
   ]
  },
  {
   "cell_type": "code",
   "execution_count": 57,
   "id": "86d27780",
   "metadata": {},
   "outputs": [
    {
     "data": {
      "text/plain": [
       "array([10813.27], dtype=float32)"
      ]
     },
     "execution_count": 57,
     "metadata": {},
     "output_type": "execute_result"
    }
   ],
   "source": [
    "predict('Volkswagen','Jetta','Automatic',2012,'Petrol',2.0,45000)"
   ]
  },
  {
   "cell_type": "code",
   "execution_count": 58,
   "id": "434658cd",
   "metadata": {},
   "outputs": [
    {
     "data": {
      "text/plain": [
       "array([24786.33], dtype=float32)"
      ]
     },
     "execution_count": 58,
     "metadata": {},
     "output_type": "execute_result"
    }
   ],
   "source": [
    "predict('Audi','R8','Semi-Auto',2020,'Diesel',5.2,4200)"
   ]
  },
  {
   "cell_type": "code",
   "execution_count": 44,
   "id": "1249c2b9",
   "metadata": {},
   "outputs": [
    {
     "data": {
      "text/plain": [
       "array([9550.1], dtype=float32)"
      ]
     },
     "execution_count": 44,
     "metadata": {},
     "output_type": "execute_result"
    }
   ],
   "source": [
    "predict('Ford','Fiesta','Automatic',2017,'Petrol',1.0,15944)"
   ]
  },
  {
   "cell_type": "code",
   "execution_count": 45,
   "id": "f9fb6f0c",
   "metadata": {},
   "outputs": [
    {
     "data": {
      "text/plain": [
       "array([13094.3], dtype=float32)"
      ]
     },
     "execution_count": 45,
     "metadata": {},
     "output_type": "execute_result"
    }
   ],
   "source": [
    "predict('BMW','3 Series','Manual',2017,'Diesel',2.0,91000)"
   ]
  },
  {
   "cell_type": "code",
   "execution_count": 46,
   "id": "6c6f4195",
   "metadata": {},
   "outputs": [
    {
     "data": {
      "text/plain": [
       "array([10905.26], dtype=float32)"
      ]
     },
     "execution_count": 46,
     "metadata": {},
     "output_type": "execute_result"
    }
   ],
   "source": [
    "predict('Hyundi','Santa Fe','Automatic',2014,'Diesel',2.2,45000)"
   ]
  },
  {
   "cell_type": "code",
   "execution_count": 47,
   "id": "75ff7627",
   "metadata": {},
   "outputs": [
    {
     "data": {
      "text/plain": [
       "array([14056.39], dtype=float32)"
      ]
     },
     "execution_count": 47,
     "metadata": {},
     "output_type": "execute_result"
    }
   ],
   "source": [
    "predict('Mercedes-Benz','C Class','Automatic',2019,'Petrol',1.5,15000)"
   ]
  },
  {
   "cell_type": "code",
   "execution_count": 48,
   "id": "90b458d6",
   "metadata": {},
   "outputs": [
    {
     "data": {
      "text/plain": [
       "array([9458.4], dtype=float32)"
      ]
     },
     "execution_count": 48,
     "metadata": {},
     "output_type": "execute_result"
    }
   ],
   "source": [
    "predict('Skoda','Octavia','Manual',2017,'Petrol',1.4,32000)"
   ]
  },
  {
   "cell_type": "code",
   "execution_count": 49,
   "id": "49d1f5d9",
   "metadata": {},
   "outputs": [
    {
     "data": {
      "text/plain": [
       "array([13094.3], dtype=float32)"
      ]
     },
     "execution_count": 49,
     "metadata": {},
     "output_type": "execute_result"
    }
   ],
   "source": [
    "predict('BMW','3 Series','Manual',2017,'Diesel',2.0,91000)"
   ]
  },
  {
   "cell_type": "code",
   "execution_count": 50,
   "id": "08b363f3",
   "metadata": {},
   "outputs": [
    {
     "data": {
      "text/plain": [
       "array([7932.68], dtype=float32)"
      ]
     },
     "execution_count": 50,
     "metadata": {},
     "output_type": "execute_result"
    }
   ],
   "source": [
    "predict('Vauxhall','Corsa','Manual',2018,'Petrol',1.4,17000)"
   ]
  }
 ],
 "metadata": {
  "kernelspec": {
   "display_name": "Python 3",
   "language": "python",
   "name": "python3"
  },
  "language_info": {
   "codemirror_mode": {
    "name": "ipython",
    "version": 3
   },
   "file_extension": ".py",
   "mimetype": "text/x-python",
   "name": "python",
   "nbconvert_exporter": "python",
   "pygments_lexer": "ipython3",
   "version": "3.8.8"
  }
 },
 "nbformat": 4,
 "nbformat_minor": 5
}
